{
 "cells": [
  {
   "cell_type": "code",
   "execution_count": null,
   "metadata": {},
   "outputs": [
    {
     "name": "stdout",
     "output_type": "stream",
     "text": [
      "Heihei jeg elsker dette faget!\n"
     ]
    }
   ],
   "source": [
    "#Oppgave 2: Datainnsamling \n",
    "\n",
    "#Hei ser du dette :)\n",
    "\n",
    "#Du ser bra ut i dag<3\n",
    "\n",
    "print(\"Heihei jeg elsker dette faget!\")\n",
    "\n",
    "#Ser du dette da :)\n",
    "\n",
    "#fjikjmiro"
   ]
  }
 ],
 "metadata": {
  "kernelspec": {
   "display_name": "venv",
   "language": "python",
   "name": "python3"
  },
  "language_info": {
   "codemirror_mode": {
    "name": "ipython",
    "version": 3
   },
   "file_extension": ".py",
   "mimetype": "text/x-python",
   "name": "python",
   "nbconvert_exporter": "python",
   "pygments_lexer": "ipython3",
   "version": "3.13.1"
  }
 },
 "nbformat": 4,
 "nbformat_minor": 2
}
