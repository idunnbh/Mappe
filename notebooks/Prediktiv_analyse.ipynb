{
 "cells": [
  {
   "cell_type": "markdown",
   "id": "0",
   "metadata": {},
   "source": [
    "# Prediktiv analyse\n",
    "\n",
    "## 1. Importerting og datainnlasting\n",
    "\n",
    "For å gjøre databehandlingen ryddigere har vi lagt datainnhentingen og klargjøringen i en egen Python-fil i src-mappen (src/prediksjon.py). Der har vi definert funksjonen predikasjon1 som slår sammen temperaturdata fra Gløshaugen og luftkvalitet fra Elgeseter, basert på tidspunkt.\n",
    "\n",
    "Vi importerer funksjonen og bruker den til å lage en felles DataFrame som inneholder alle variablene som vi trenger. Vi brukler df.head() for å teste at DataFramen blir hentet riktig. "
   ]
  },
  {
   "cell_type": "code",
   "execution_count": null,
   "id": "1",
   "metadata": {},
   "outputs": [],
   "source": [
    "import sys, os\n",
    "sys.path.append(os.path.abspath(\"../\"))\n",
    "\n",
    "from src.prediksjon import prediksjon1\n",
    "\n",
    "df = prediksjon1(\n",
    "    \"../data/temp_gloshaugen_historisk_renset.csv\",\n",
    "    \"../data/gyldig_historisk_luftkvalitet.csv\"\n",
    ")\n",
    "\n",
    "df.head()\n"
   ]
  },
  {
   "cell_type": "markdown",
   "id": "2",
   "metadata": {},
   "source": [
    "## 2. Scatterplot visualisering\n",
    "\n",
    "Nå lager vi scatterplots for å se om det er noen sammenheng eller luftkvalitet og temperatur i en visualisering av dataene vi har. Dersom det dannes et tydelig mønster, kan det tyde til at det finnes en sammenheng som kan regregeres."
   ]
  },
  {
   "cell_type": "code",
   "execution_count": null,
   "id": "3",
   "metadata": {},
   "outputs": [],
   "source": [
    "import matplotlib.pyplot as plt\n",
    "import seaborn as sns\n",
    "\n",
    "plt.figure(figsize=(15, 4))\n",
    "\n",
    "for i, col in enumerate([\"NO2\", \"PM10\", \"PM25\"]):\n",
    "    plt.subplot(1, 3, i + 1)\n",
    "    sns.scatterplot(data=df, x=col, y=\"temperatur\", alpha=0.5)\n",
    "    plt.title(f\"Temperatur vs {col}\")\n",
    "    plt.xlabel(col)\n",
    "    plt.ylabel(\"Temperatur\")\n",
    "\n",
    "plt.tight_layout()\n",
    "plt.show()\n"
   ]
  },
  {
   "cell_type": "markdown",
   "id": "4",
   "metadata": {},
   "source": [
    "## 3. Tolkning av scatterplots\n",
    "\n",
    "### Temperatur vs NO2\n",
    "Formene på punktene viser at lavt nivå av NO2 henger sammen med normaltemperatur mellom 0 og 25 grader. Noen avvik (outliers) forekommer, men punktene tyder også på at det er en mulig tendens til at høy NO2 henger sammen med lavere temperaturer. \n",
    "\n",
    "Punktene er generelt spredte og kan tolkes i en sammenheng med at kald luft kan henge sammen med mer NO2 i lufta.\n",
    "\n",
    "### Temperatur vs PM10\n",
    "Formene på punktene viser at det generelt er lite nivå med PM10 og at de fleste punktene ligger under 60 µg/m³. Det finnes noen få avvik (outliers). \n",
    "\n",
    "Det ser ikke ut til at det er noen sammenheng scatterplottemn. Outliers ligger litt overalt uten ?? til \n",
    "\n",
    "### Temperatur vs PM2.5\n",
    "Formene på punktene ligner NO2 scatterplotten. Det finnes flere lave verdier enn høye og det kan tolkes at høy PM2.5 forekommer oftere ved lave temperaturforhold.\n",
    "\n",
    "Selv om scatterplotsene ikke viser en tydelig sammenheng, kan vi se en potensiell sammenheng i NO2 og PM2.5 scatterplotsene. Vi velger derfor å fortsette med å lage en lineær regresjonsmodell for å undersøke om det faktisk finnes en sammenheng, eller om det er for svakt til å si noe om.\n",
    "\n",
    "\n",
    "## Regresjon\n",
    "\n",
    "Her trener vi regresjonsmodellen hvor NO2, PM10 og PM2.5 vil bli brukt som forklaringsvariablene og temperatur er målvariablen. Vi bruker scikit-learn for å bygge modellen."
   ]
  },
  {
   "cell_type": "code",
   "execution_count": null,
   "id": "5",
   "metadata": {},
   "outputs": [],
   "source": [
    "from sklearn.linear_model import LinearRegression\n",
    "from sklearn.metrics import mean_squared_error, r2_score\n",
    "\n",
    "# X = forklaringsvariabler (luftkvalitet)\n",
    "X = df[[\"NO2\", \"PM10\", \"PM25\"]]\n",
    "# y = målvariabel (temperatur)\n",
    "y = df[\"temperatur\"]\n",
    "\n",
    "# Lag modell og tren den\n",
    "model = LinearRegression()\n",
    "model.fit(X, y)\n",
    "\n",
    "# Prediksjon\n",
    "y_pred = model.predict(X)\n",
    "\n",
    "# Evaluering\n",
    "r2 = r2_score(y, y_pred)\n",
    "mse = mean_squared_error(y, y_pred)\n",
    "\n",
    "print(f\"R²-verdi: {r2:.3f}\")\n",
    "print(f\"MSE: {mse:.2f}\")\n"
   ]
  },
  {
   "cell_type": "markdown",
   "id": "6",
   "metadata": {},
   "source": [
    "### Regresjonsmodellen\n",
    "\n",
    "## Hvor bra er den?\n",
    "**R2**: \n",
    "\n",
    "**MSE**:"
   ]
  },
  {
   "cell_type": "markdown",
   "id": "7",
   "metadata": {},
   "source": [
    "### Visualisering av faktisk vs predikert temperatur"
   ]
  },
  {
   "cell_type": "code",
   "execution_count": null,
   "id": "8",
   "metadata": {},
   "outputs": [],
   "source": [
    "import matplotlib.pyplot as plt\n",
    "\n",
    "plt.figure(figsize=(5,5))\n",
    "plt.scatter(y, y_pred, alpha=0.5)\n",
    "plt.plot([y.min(), y.max()], [y.min(), y.max()], 'r--')  # Diagonal linje\n",
    "plt.xlabel(\"Faktisk temperatur\")\n",
    "plt.ylabel(\"Predikert temperatur\")\n",
    "plt.title(\"Faktisk vs Predikert temperatur\")\n",
    "plt.grid(True)\n",
    "plt.tight_layout()\n",
    "plt.show()\n"
   ]
  },
  {
   "cell_type": "markdown",
   "id": "9",
   "metadata": {},
   "source": [
    "### Hva forteller scatterplottet?\n",
    "\n",
    "- Om det hadde vært en perfekt predikasjon ville de blå punktene vært på linje med den røde linjen.\n",
    "- **Rød linje:** Den idelle linjen som representerer hva som ville vært en perfekt predikasjon. \n",
    "- **Blå punkter:** Det modellen faktisk predikerte, sammenlignet med de faktiske temperaturene.\n",
    "\n",
    "Vi ser tydelig at punktene ikke følger den røde linje, men heller at de ligger spredt rundt på et smalt område i midten av plottet. Med dette kan vi forstå at modellen i liten grad klarte å tilpasse seg variasjonen i temperaturene på de tre forklaringsvariablene.\n",
    "\n",
    "R2 verdien på 5,4% bekrefter dette.\n",
    "\n",
    "\n",
    "## Ekstra: Lineær regresjon med kun NO2\n",
    "Ettersom at NO2 hadde den mest synlige sammenhengen med temperatur av de tre ulike forklaringsvariablene, prøver vi å trene en regresjonsmodell med denne variablen alene. Hensikten med dette er å undersøke om modellen presterer bedre eller dårligere enn når vi brukte alle tre variablene."
   ]
  },
  {
   "cell_type": "code",
   "execution_count": null,
   "id": "10",
   "metadata": {},
   "outputs": [],
   "source": [
    "# Kun NO2 som forklaringsvariabel\n",
    "X_no2 = df[[\"NO2\"]]\n",
    "y = df[\"temperatur\"]\n",
    "\n",
    "# Ny modell\n",
    "model_no2 = LinearRegression()\n",
    "model_no2.fit(X_no2, y)\n",
    "\n",
    "# Prediksjoner\n",
    "y_pred_no2 = model_no2.predict(X_no2)\n",
    "\n",
    "# Evaluering\n",
    "r2_no2 = r2_score(y, y_pred_no2)\n",
    "mse_no2 = mean_squared_error(y, y_pred_no2)\n",
    "\n",
    "print(f\"R²-verdi (kun NO₂): {r2_no2:.3f}\")\n",
    "print(f\"MSE (kun NO₂): {mse_no2:.2f}\")\n"
   ]
  },
  {
   "cell_type": "code",
   "execution_count": null,
   "id": "11",
   "metadata": {},
   "outputs": [],
   "source": [
    "plt.figure(figsize=(6,6))\n",
    "plt.scatter(y, y_pred_no2, alpha=0.5)\n",
    "plt.plot([y.min(), y.max()], [y.min(), y.max()], 'r--')  # Perfekt prediksjon\n",
    "plt.xlabel(\"Faktisk temperatur\")\n",
    "plt.ylabel(\"Predikert temperatur (kun NO2\")\n",
    "plt.title(\"Faktisk vs Predikert temperatur\\nModell med kun NO2\")\n",
    "plt.grid(True)\n",
    "plt.tight_layout()\n",
    "plt.show()\n"
   ]
  },
  {
   "cell_type": "markdown",
   "id": "12",
   "metadata": {},
   "source": [
    "### Hva forteller scatterplottet?\n",
    "\n",
    "Scatterplottet er ganske lik den tidligere regresjonsmodellen. Den predikerte temperaturen er rundt 10 grader og har liten variasjon. Den kan forstås som dårligere enn den tidligere modellen og R2 prediksjonen på 2,5% bekrefter dette.\n",
    "\n",
    "Dette bekrefter at temperatur var lite påvirket av klimagassene NO2, PM10 og PM2.5 i 2024, og da i forhold til andre mulige forhold som vær, årstid, vind og lignende variabler.\n",
    "\n",
    "## Sammenligning av modeller og oppsummering\n",
    "\n",
    "lll"
   ]
  }
 ],
 "metadata": {
  "kernelspec": {
   "display_name": "venv",
   "language": "python",
   "name": "python3"
  },
  "language_info": {
   "codemirror_mode": {
    "name": "ipython",
    "version": 3
   },
   "file_extension": ".py",
   "mimetype": "text/x-python",
   "name": "python",
   "nbconvert_exporter": "python",
   "pygments_lexer": "ipython3",
   "version": "3.11.9"
  }
 },
 "nbformat": 4,
 "nbformat_minor": 5
}
