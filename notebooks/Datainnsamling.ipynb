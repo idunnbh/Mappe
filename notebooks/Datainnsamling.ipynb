{
 "cells": [
  {
   "cell_type": "code",
   "execution_count": null,
   "metadata": {},
   "outputs": [
    {
     "name": "stdout",
     "output_type": "stream",
     "text": [
      "Første 5 rader av data med temperatur:\n",
      "                   time  data_instant_details_air_temperature\n",
      "0  2025-03-07T12:00:00Z                                   8.2\n",
      "1  2025-03-07T13:00:00Z                                   9.1\n",
      "2  2025-03-07T14:00:00Z                                   9.1\n",
      "3  2025-03-07T15:00:00Z                                   8.4\n",
      "4  2025-03-07T16:00:00Z                                   7.2\n"
     ]
    }
   ],
   "source": [
    "#Dette er bare rett fra KI\n",
    "#Ville bare se om programe kjørte \n",
    "\n",
    "import os\n",
    "import requests\n",
    "import json\n",
    "import pandas as pd\n",
    "from pandasql import sqldf\n",
    "\n",
    "def hent_data_fra_api(url, headers=None):\n",
    "    \"\"\"Henter JSON-data fra et API og returnerer det som en Python-dictionary.\"\"\"\n",
    "    response = requests.get(url, headers=headers)\n",
    "    if response.status_code == 200:\n",
    "        return response.json()\n",
    "    else:\n",
    "        print(f\"Feil ved henting av data: {response.status_code}\")\n",
    "        return None\n",
    "\n",
    "def lagre_json_fil(data, filsti):\n",
    "    \"\"\"Lagrer JSON-data til en fil.\"\"\"\n",
    "    with open(filsti, 'w', encoding='utf-8') as f:\n",
    "        json.dump(data, f, indent=4, ensure_ascii=False)\n",
    "\n",
    "def json_til_dataframe(data):\n",
    "    \"\"\"Konverterer JSON-data til en DataFrame, og flater ut nested dictionaries.\"\"\"\n",
    "    df = pd.json_normalize(data['properties']['timeseries'])  # Flater ut JSON\n",
    "\n",
    "    # Erstatt '.' med '_' i kolonnenavnene for SQLite-kompatibilitet\n",
    "    df.columns = [col.replace(\".\", \"_\") for col in df.columns]\n",
    "\n",
    "    return df\n",
    "\n",
    "def analyser_data_med_sql(df, query):\n",
    "    \"\"\"Bruker SQL på Pandas DataFrame for å analysere data.\"\"\"\n",
    "    return sqldf(query, locals())\n",
    "\n",
    "def main():\n",
    "    # Definer API-informasjon\n",
    "    url = \"https://api.met.no/weatherapi/locationforecast/2.0/compact?lat=60.10&lon=9.58\"\n",
    "    headers = {\"User-Agent\": \"MiljodataAnalyse/1.0\"}\n",
    "    \n",
    "    # Opprett katalog for lagring av data\n",
    "    datakatalog = \"data\"\n",
    "    os.makedirs(datakatalog, exist_ok=True)\n",
    "    \n",
    "    # Hent data fra API\n",
    "    data = hent_data_fra_api(url, headers)\n",
    "    if data:\n",
    "        json_fil = os.path.join(datakatalog, \"weather_data.json\")\n",
    "        csv_fil = os.path.join(datakatalog, \"weather_data.csv\")\n",
    "        \n",
    "        # Lagre JSON-data\n",
    "        lagre_json_fil(data, json_fil)\n",
    "        \n",
    "        # Konverter JSON til Pandas DataFrame og flatten\n",
    "        df = json_til_dataframe(data)\n",
    "        df.to_csv(csv_fil, index=False)  # Lagre til CSV\n",
    "        \n",
    "        # Analyser med SQL (bruker nytt formatert navn på kolonnen)\n",
    "        query = \"SELECT time, data_instant_details_air_temperature FROM df LIMIT 5\"\n",
    "        df_resultat = analyser_data_med_sql(df, query)\n",
    "        \n",
    "        print(\"Første 5 rader av data med temperatur:\")\n",
    "        print(df_resultat)\n",
    "    else:\n",
    "        print(\"Kunne ikke hente data.\")\n",
    "\n",
    "if __name__ == \"__main__\":\n",
    "    main()\n",
    "      \n",
    "  \n",
    "\n"
   ]
  }
 ],
 "metadata": {
  "kernelspec": {
   "display_name": "Python 3",
   "language": "python",
   "name": "python3"
  },
  "language_info": {
   "codemirror_mode": {
    "name": "ipython",
    "version": 3
   },
   "file_extension": ".py",
   "mimetype": "text/x-python",
   "name": "python",
   "nbconvert_exporter": "python",
   "pygments_lexer": "ipython3",
   "version": "3.13.1"
  }
 },
 "nbformat": 4,
 "nbformat_minor": 2
}
