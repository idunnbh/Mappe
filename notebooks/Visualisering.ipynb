{
 "cells": [
  {
   "cell_type": "code",
   "execution_count": null,
   "id": "0",
   "metadata": {},
   "outputs": [],
   "source": [
    "import pandas as pd\n",
    "import numpy as np\n",
    "\n",
    "import sys, os\n",
    "sys.path.append(os.path.abspath(\"../src\"))"
   ]
  },
  {
   "cell_type": "code",
   "execution_count": null,
   "id": "1",
   "metadata": {},
   "outputs": [],
   "source": [
    "# Visualisering av årlig temperatur\n",
    "from temp_visualisering import plot_interactive_bokeh\n",
    "from statistikk import analyser_fil\n",
    "\n",
    "stat_dict, _, _ = analyser_fil(\n",
    "    filsti=\"../data/temp_gloshaugen_historisk_renset_ 50.csv\",\n",
    "    sep=\",\",\n",
    "    datokolonne=\"tidspunkt\",\n",
    "    groupby=\"år\"\n",
    ")\n",
    "\n",
    "årlig_df = stat_dict[\"temperatur\"]\n",
    "årlig_df = årlig_df[årlig_df[\"år\"] < 2025]\n",
    "\n",
    "plot_interactive_bokeh(årlig_df)"
   ]
  },
  {
   "cell_type": "code",
   "execution_count": null,
   "id": "2",
   "metadata": {},
   "outputs": [],
   "source": [
    "# Visualisering av gjennomsnittstemperatur per tiår\n",
    "from statistikk import tiår_snitt\n",
    "from temp_visualisering import plot_by_decade\n",
    "\n",
    "filtrert_df = årlig_df[årlig_df[\"år\"] < 2025]\n",
    "tiår_df = tiår_snitt(filtrert_df, årskolonne=\"år\", verdikolonne=\"gjennomsnitt\")\n",
    "plot_by_decade(tiår_df)"
   ]
  },
  {
   "cell_type": "code",
   "execution_count": null,
   "id": "3",
   "metadata": {},
   "outputs": [],
   "source": [
    "# Heatmap av månedlig temperatur over flere år\n",
    "from temp_visualisering import plot_temp_heatmap\n",
    "\n",
    "# Leser inn og aggregér til månedsgjennomsnitt\n",
    "stat_dict, _, _ = analyser_fil(\n",
    "    filsti=\"../data/temp_gloshaugen_historisk_renset_ 50.csv\",\n",
    "    sep=\",\",\n",
    "    datokolonne=\"tidspunkt\",\n",
    "    groupby=\"måned\"\n",
    ")\n",
    "måned_df = stat_dict[\"temperatur\"] \n",
    "# Fjerner 2025 siden det er ufullstendig\n",
    "måned_df = måned_df[måned_df[\"år\"] < 2025]\n",
    "\n",
    "plot_temp_heatmap(\n",
    "    måned_df,\n",
    "    årskolonne=\"år\",\n",
    "    månedskolonne=\"måned\",\n",
    "    verdikolonne='gjennomsnitt'\n",
    ")"
   ]
  },
  {
   "cell_type": "code",
   "execution_count": null,
   "id": "4",
   "metadata": {},
   "outputs": [],
   "source": [
    "# Visualisering av klimagass-utslipp i Norge \n",
    "import sys, os\n",
    "sys.path.append(os.path.abspath(os.path.join(os.path.dirname(''), '..', 'src')))\n",
    "\n",
    "from klimagass_visualisering import analyser_og_vis\n",
    "analyser_og_vis(\"../data/klimagassutslipp_norge_renset.csv\", datokolonne=\"år\", groupby=\"år\")\n"
   ]
  },
  {
   "cell_type": "code",
   "execution_count": null,
   "id": "5",
   "metadata": {},
   "outputs": [],
   "source": [
    "import importlib\n",
    "import klimagass_visualisering\n",
    "importlib.reload(klimagass_visualisering)\n",
    "\n",
    "from klimagass_visualisering import sammenlign_norge_og_verden_separat\n",
    "sammenlign_norge_og_verden_separat(\n",
    "    \"../data/klimagassutslipp_norge_renset.csv\",\n",
    "    \"../data/klimagassutslipp_verden_renset.csv\"\n",
    ")"
   ]
  },
  {
   "cell_type": "code",
   "execution_count": null,
   "id": "6",
   "metadata": {},
   "outputs": [],
   "source": [
    "import importlib\n",
    "import klimagass_visualisering\n",
    "importlib.reload(klimagass_visualisering)\n",
    "\n",
    "\n",
    "sammenlign_norge_og_verden_sammen(\n",
    "    \"../data/klimagassutslipp_norge_renset.csv\",\n",
    "    \"../data/klimagassutslipp_verden_renset.csv\"\n",
    ")"
   ]
  },
  {
   "cell_type": "code",
   "execution_count": null,
   "id": "7",
   "metadata": {},
   "outputs": [],
   "source": [
    "import dataanalyse\n",
    "import importlib\n",
    "importlib.reload(dataanalyse)\n",
    "statistikk, df_total, df = dataanalyse.analyser_fil(\"../data/klimagassutslipp_norge_renset.csv\",sep=\",\",datokolonne=\"år\",groupby=\"år\")\n",
    "\n",
    "from klimagass_visualisering import plott_utslipp_per_kilde_over_tid\n",
    "\n",
    "kol_utslipp = [kol for kol in df.columns if \"utslipp\" in kol and \"co2\" in kol][0]\n",
    "df[kol_utslipp] = pd.to_numeric(df[kol_utslipp], errors=\"coerce\")\n",
    "df = df[~df['kilde_(aktivitet)'].str.contains(\"alle kilder\", case=False)]\n",
    "\n",
    "stats_per_kilde_år = df.groupby(['kilde_(aktivitet)', 'år'])[kol_utslipp].agg(['mean', 'median']).reset_index()\n",
    "stats_per_kilde_år = stats_per_kilde_år.round(2)\n",
    "\n",
    "plott_utslipp_per_kilde_over_tid(stats_per_kilde_år, verdi_kolonne=\"mean\")\n"
   ]
  }
 ],
 "metadata": {
  "kernelspec": {
   "display_name": "venv",
   "language": "python",
   "name": "python3"
  },
  "language_info": {
   "codemirror_mode": {
    "name": "ipython",
    "version": 3
   },
   "file_extension": ".py",
   "mimetype": "text/x-python",
   "name": "python",
   "nbconvert_exporter": "python",
   "pygments_lexer": "ipython3",
   "version": "3.13.1"
  }
 },
 "nbformat": 4,
 "nbformat_minor": 5
}
