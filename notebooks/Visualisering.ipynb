{
 "cells": [
  {
   "cell_type": "code",
   "execution_count": null,
   "id": "0",
   "metadata": {},
   "outputs": [],
   "source": [
    "import pandas as pd\n",
    "import numpy as np\n",
    "\n",
    "import sys, os\n",
    "sys.path.append(os.path.abspath(\"../src\"))\n",
    "\n",
    "import importlib\n",
    "import klimagass_visualisering\n",
    "importlib.reload(klimagass_visualisering)\n",
    "import statistikk\n",
    "importlib.reload(statistikk)\n",
    "import temp_visualisering\n",
    "importlib.reload(temp_visualisering)\n",
    "\n",
    "from dotenv import load_dotenv\n",
    "load_dotenv(\"../api.env\")  "
   ]
  },
  {
   "cell_type": "code",
   "execution_count": null,
   "id": "1",
   "metadata": {},
   "outputs": [],
   "source": [
    "# Analyse og visualisering av temperaturutviklingen på Gløshaugen\n",
    "\n",
    "I denne analysen ser vi på temperaturutviklingen i Trondheim (Gløshaugen) de siste 50 årene."
   ]
  },
  {
   "cell_type": "markdown",
   "id": "2",
   "metadata": {},
   "source": [
    "### Importerer nødvendige filer og klargjør datasett\n",
    "Importerer data fra den ferdig rensede CSV-filene `temp_gloshaugen_historisk_renset_ 50.csv`\n",
    "\n",
    "Funksjonen analyser_fil() leser inn filene og grupperer etter år."
   ]
  },
  {
   "cell_type": "code",
   "execution_count": null,
   "id": "3",
   "metadata": {},
   "outputs": [],
   "source": [
    "from temp_visualisering import plot_interactive_bokeh\n",
    "from statistikk import analyser_fil\n",
    "\n",
    "stat_dict, _, _ = analyser_fil(filsti=\"../data/temp_gloshaugen_historisk_renset_ 50.csv\",sep=\",\",datokolonne=\"tidspunkt\",groupby=\"år\")\n",
    "\n",
    "årlig_df = stat_dict[\"temperatur\"]\n",
    "årlig_df = årlig_df[årlig_df[\"år\"] < 2025]"
   ]
  },
  {
   "cell_type": "markdown",
   "id": "4",
   "metadata": {},
   "source": [
    "## Årlig gjennomsnittstemperatur på Gløshaugen\n",
    "\n",
    "Her visualiseres temperaturutviklingen på Gløshaugen de siste 50 årene.  \n",
    "Grafen viser gjennomsnittstemperaturen for hvert år, basert på historiske målinger.  \n",
    "\n",
    "Visualiseringen er laget med Bokeh. Dette gjør det mulig å utforske data interaktivt. Her kan man f.eks. zoome inn på perioder, holde over punkter for detaljer, og identifisere årets høyeste og laveste temperaturer."
   ]
  },
  {
   "cell_type": "code",
   "execution_count": null,
   "id": "5",
   "metadata": {},
   "outputs": [],
   "source": [
    "plot_interactive_bokeh(årlig_df)"
   ]
  },
  {
   "cell_type": "markdown",
   "id": "6",
   "metadata": {},
   "source": [
    "**Kommentar:**\n",
    "\n",
    "Grafen viser en stigende trend i temperaturen over tid, med særlig noen varme år i nyere tid. 2020 var året med høyest årlig gjennomsnittstemperatur med 8.79 °C, mens 1992 hadde det laveste snittet med 4.70 °C. Dette kan tyde på at globale oppvarmingen har hatt en lokal effekt på temperaturen på Gløshaugen. "
   ]
  },
  {
   "cell_type": "markdown",
   "id": "7",
   "metadata": {},
   "source": [
    "## Alternativ visualisering med Matplotlib\n",
    "Her er en alternativ løsning der årsgjennomsnittet visualiseres uten bruk av Bokeh. Ved å bruke Bokeh fikk vi problemer med visualiseringen i Jupyter-widget (som brukes i **data-app.ipynb**), da det kunn var meldingen \"Loading BokehJS...\" som kom opp. \n",
    "\n",
    "Denne linjegrafen er laget med Matplotlib og viser samme data som over (årlig gjennomsnittstemperatur). Det er denne versjonen som brukes i  widget-løsningen i data-appen."
   ]
  },
  {
   "cell_type": "code",
   "execution_count": null,
   "id": "8",
   "metadata": {},
   "outputs": [],
   "source": [
    "from statistikk import analyser_temperatur\n",
    "from temp_visualisering import plott_temperatur_år\n",
    "\n",
    "resultat = analyser_temperatur(\"../data/temp_gloshaugen_historisk_renset_ 50.csv\")\n",
    "df_temp = resultat[\"temperatur\"][\"årlig_snitt\"]\n",
    "df_temp = resultat[\"temperatur\"][\"årlig_snitt\"].rename(columns={\"årsgjennomsnitt\": \"gjennomsnitt\"})\n",
    "plott_temperatur_år(df_temp)"
   ]
  },
  {
   "cell_type": "markdown",
   "id": "9",
   "metadata": {},
   "source": [
    "## Visualisering av gjennomsnittstemperatur per tiår\n",
    "\n",
    "Grafen visualiserer gjennomsnittstemperaturen per tiår på Gløshaugen fra 1970-tallet og frem til 2020-tallet i et stolpediagram. Dette gir et jevnere bilde av temperaturutviklingen og kan gjøre det lettere å se langsiktige trender. "
   ]
  },
  {
   "cell_type": "code",
   "execution_count": null,
   "id": "10",
   "metadata": {},
   "outputs": [],
   "source": [
    "from statistikk import tiår_snitt\n",
    "from temp_visualisering import plot_by_decade\n",
    "\n",
    "filtrert_df = årlig_df[årlig_df[\"år\"] < 2025]\n",
    "tiår_df = tiår_snitt(filtrert_df, årskolonne=\"år\", verdikolonne=\"gjennomsnitt\")\n",
    "plot_by_decade(tiår_df)"
   ]
  },
  {
   "cell_type": "markdown",
   "id": "11",
   "metadata": {},
   "source": [
    "**Kommentar:**\n",
    "\n",
    "Også her viser grafen en økning i gjennomsnittstemperaturen. Spesielt fra 1990 til 2000 er det en tydelig økning fra 6,36 °C til 7,18 °C. "
   ]
  },
  {
   "cell_type": "markdown",
   "id": "12",
   "metadata": {},
   "source": [
    "## Årlig temperaturavvik fra totalgjennomsnitt \n",
    "Grafen under viser årlig temperaturavvik fra totalgjennomsnittet. Den er laget for å visualisere hvilke år som har vært varmere eller kaldere enn normalt, og hvor store disse avvikene har vært."
   ]
  },
  {
   "cell_type": "code",
   "execution_count": null,
   "id": "13",
   "metadata": {},
   "outputs": [],
   "source": [
    "from temp_visualisering import plot_avvik\n",
    "df_temp = resultat[\"temperatur\"][\"årlig_snitt\"]\n",
    "df_temp = resultat[\"temperatur\"][\"årlig_snitt\"].rename(columns={\"årsgjennomsnitt\": \"gjennomsnitt\"})\n",
    "plot_avvik(df_temp)"
   ]
  },
  {
   "cell_type": "markdown",
   "id": "14",
   "metadata": {},
   "source": [
    "**Kommentar:**\n",
    "\n",
    "Grafen viser at det har vært flere år med temperaturer under gjennomsnittet i perioden før 2000, mens etter dette er det flere år som har ligget over.  Året 2020 skiller seg ut med ca. 2 °C høyere temperatur enn snittet for hele perioden. Dette viser at tempraturen stiger. "
   ]
  },
  {
   "cell_type": "markdown",
   "id": "15",
   "metadata": {},
   "source": [
    "## Visualisering av temperaturøkning som sol\n",
    "Her vises temperaturøkningen inne i en sol!\n",
    "Tallet i midten viser hvor mye temperaturen har økt mellom første og siste år."
   ]
  },
  {
   "cell_type": "code",
   "execution_count": null,
   "id": "16",
   "metadata": {},
   "outputs": [],
   "source": [
    "from temp_visualisering import tegn_endring_sol\n",
    "tegn_endring_sol(\"../data/temp_gloshaugen_historisk_renset_ 50.csv\")"
   ]
  },
  {
   "cell_type": "markdown",
   "id": "17",
   "metadata": {},
   "source": [
    "**Kommentar:**\n",
    " \n",
    "Fra solen ser vi at temperaturen har økt med 1.23 °C fra 1976 til 2024"
   ]
  },
  {
   "cell_type": "markdown",
   "id": "18",
   "metadata": {},
   "source": [
    "## Sanntidsvisualisering av temperatur\n",
    "\n",
    "Grafen viser værvarsel for de kommende dagene hentet fra Meteorologisk institutt (MET) sitt API.\n",
    "Varselet er seg normalt for ca. 10 dager frem i tid.\n",
    "\n",
    "Kilde: [api.met.no](https://api.met.no)"
   ]
  },
  {
   "cell_type": "code",
   "execution_count": null,
   "id": "19",
   "metadata": {},
   "outputs": [],
   "source": [
    "from temp_visualisering import plot_sanntids_temperatur\n",
    "plot_sanntids_temperatur()  "
   ]
  },
  {
   "cell_type": "markdown",
   "id": "20",
   "metadata": {},
   "source": [
    "# Heatmap av månedlig temperatur over flere år\n",
    "from temp_visualisering import plot_temp_heatmap\n",
    "\n",
    "# Leser inn og aggregér til månedsgjennomsnitt\n",
    "stat_dict, _, _ = analyser_fil(\n",
    "    filsti=\"../data/temp_gloshaugen_historisk_renset_ 50.csv\",\n",
    "    sep=\",\",\n",
    "    datokolonne=\"tidspunkt\",\n",
    "    groupby=\"måned\"\n",
    ")\n",
    "måned_df = stat_dict[\"temperatur\"] \n",
    "# Fjerner 2025 siden det er ufullstendig\n",
    "måned_df = måned_df[måned_df[\"år\"] < 2025]\n",
    "\n",
    "plot_temp_heatmap(\n",
    "    måned_df,\n",
    "    årskolonne=\"år\",\n",
    "    månedskolonne=\"måned\",\n",
    "    verdikolonne='gjennomsnitt'\n",
    ")"
   ]
  },
  {
   "cell_type": "code",
   "execution_count": null,
   "id": "21",
   "metadata": {},
   "outputs": [],
   "source": [
    "# Visualisering av klimagass-utslipp i Norge \n",
    "import sys, os\n",
    "sys.path.append(os.path.abspath(os.path.join(os.path.dirname(''), '..', 'src')))\n",
    "\n",
    "Funksjonen analyser_fil() leser inn filene og grupperer etter år."
   ]
  },
  {
   "cell_type": "code",
   "execution_count": null,
   "id": "22",
   "metadata": {},
   "outputs": [],
   "source": [
    "statistikk_norge, df_total_norge, df_norge_alt = statistikk.analyser_fil(\"../data/klimagassutslipp_norge_renset.csv\", datokolonne=\"år\", groupby=\"år\")\n",
    "statistikk_verden, df_total_verden, df_verden_alt= statistikk.analyser_fil(\"../data/klimagassutslipp_verden_renset.csv\", datokolonne=\"År\", groupby=\"år\")"
   ]
  },
  {
   "cell_type": "markdown",
   "id": "23",
   "metadata": {},
   "source": [
    "### Klargjøring av datasett\n",
    "\n",
    "For å visualisere sammenlignbare tall blir totale norske utslipp (kunn 'alle kilder') lagret i df_norge, og verdensutslippet lagres i df_verden.\n",
    "I tillegg lages df_norge_alt, som inneholder utslippene i norge per kilde, der verdien ligger i en kolonne kalt gjennomsnitt.\n",
    "Alle datasettene df_norge, df_norge_alt og df_verden blir justert slik at de passer funksjonene som brukes videre.\n",
    "\n",
    "Dette gir følgende datasett:\n",
    "- df_norge: Totalt utslipp for Norge (alle kilder summert)\n",
    "- df_norge_alt: Utslipp i Norge per kilde\n",
    "- df_verden: Totalt utslipp for verden\n"
   ]
  },
  {
   "cell_type": "code",
   "execution_count": null,
   "id": "24",
   "metadata": {},
   "outputs": [],
   "source": [
    "df_norge = df_total_norge[df_total_norge[\"kilde_(aktivitet)\"].str.lower().str.contains(\"alle kilder\")].copy()\n",
    "df_norge = df_norge[[\"år\", \"utslipp_til_luft_(1_000_tonn_co2-ekvivalenter,_ar5)\"]]\n",
    "df_norge.rename(columns={\"utslipp_til_luft_(1_000_tonn_co2-ekvivalenter,_ar5)\": \"gjennomsnitt\"}, inplace=True)\n",
    "\n",
    "df_norge_alt = df_norge_alt.rename(columns={\"utslipp_til_luft_(1_000_tonn_co2-ekvivalenter,_ar5)\": \"gjennomsnitt\"})\n",
    "\n",
    "df_verden = statistikk_verden[\"utslipp_i_co2_ekvivalenter\"]\n"
   ]
  },
  {
   "cell_type": "markdown",
   "id": "25",
   "metadata": {},
   "source": [
    "### Utslipp per år globalt\n",
    "Utslippene for verden visualiseres som et linjediagram og viser hvordan de totale klimagassutslippene har utviklet seg over tid."
   ]
  },
  {
   "cell_type": "code",
   "execution_count": null,
   "id": "26",
   "metadata": {},
   "outputs": [],
   "source": [
    "from klimagass_visualisering import plot_utslipp\n",
    "plot_utslipp(df_verden)"
   ]
  },
  {
   "cell_type": "markdown",
   "id": "27",
   "metadata": {},
   "source": [
    "**Kommentar:** \n",
    "\n",
    "De globale klimagassutslippene har økt jevnt siden 1970-tallet. I noen perioder er det derimot små fall som rundt 2008 og 2020. Dette skyldes finanskrisen i 2008 og koronapandemien i 2020. \n",
    "\n",
    "Finanskrisen i 2008 var en global økonomisk krise som begynte i USA og spredte seg til resten av verden. Under krisen stoppet den økonomiske veksten opp og fabrikkene produsere mindre slik at etterspørselen etter energi ble lavere. Dette førte til en nedgang i klimagass utslipp, men som grafen viser, var dette bare midlertidig og de økte raskt igjen.\n",
    "\n",
    "I 2020 under koronapandemien var nedgangen i utslipp enda tydeligere. Verdensøkonomien ble delvis stengt ned, folk jobbet mer hjemmefra og reiste mindre. Grafen viser at dette også bare var en midlertidig endring. Etter samfunnet begynte å åpne opp igjen, begynte utslippene å stige. \n",
    "\n",
    "Begge disse periodene viser at kriser kan gi midlertidige kutt i utslipp, men at varig reduksjon i utslipp vi kreve omfattende og permanente endringer."
   ]
  },
  {
   "cell_type": "markdown",
   "id": "28",
   "metadata": {},
   "source": [
    "### Utslipp per år i Norge\n",
    "\n",
    "Totalutslippet for Norge visualiseres som et linjediagram, basert på summen av alle kilder. Dette kontrolleres ved å lage en graf der utslippene summeres manuelt fra alle kilder i datasettet. Resultatene samsvarer, noe som bekrefter at dataen er riktig."
   ]
  },
  {
   "cell_type": "code",
   "execution_count": null,
   "id": "29",
   "metadata": {},
   "outputs": [],
   "source": [
    "plot_utslipp(df_norge)\n",
    "\n",
    "# Tester at det blir samme graf når alle kildene summeres i stede for å bruke 'alle kilder' direkte\n",
    "df = statistikk_norge[\"utslipp_til_luft_(1_000_tonn_co2-ekvivalenter,_ar5)\"]\n",
    "df_samlet = (df.groupby(\"år\")[\"gjennomsnitt\"].sum().reset_index())\n",
    "plot_utslipp(df_samlet)"
   ]
  },
  {
   "cell_type": "markdown",
   "id": "30",
   "metadata": {},
   "source": [
    "**Kommentar:** \n",
    "\n",
    "Utslippene i Norge har økte frem til 2008, men i 2008 var det en tydlig nedgang i klimagassutslipp. Dette er pga. den globale finanskrisen. I 2020 reduseres også utslippene pga. pandemien. Etter pandemien har norske utslipp fortsatt å synke. Dette kan være på grunn av tiltak som elektrifisering og strengere klimaregler.\n",
    "\n",
    "Det ble laget to grafer for å dobbeltsjekke utslippsdataene. Først ble en graf basert på totalutslipp direkte fra datasettet laget. Deretter ble en ny graf laget ved å summere alle kildene manuelt. Dette ble gjort fordi nedgangen i utslipp, spesielt i 2023, virket overraskende stor. Siden grafene ble like, sammsvarer tallene i som er hentet, selv om det fortsatt er noe usikkerhet hvorfor utslippene i 2023 er så lave som grafen viser."
   ]
  },
  {
   "cell_type": "markdown",
   "id": "31",
   "metadata": {},
   "source": [
    "### Utslipp per tiår\n",
    "\n",
    "Her vises gjennomsnittlige utslipp per tiår for både Norge og verden. Dette er for å få en jevnere oversikt over utviklingen."
   ]
  },
  {
   "cell_type": "code",
   "execution_count": null,
   "id": "32",
   "metadata": {},
   "outputs": [],
   "source": [
    "from klimagass_visualisering import plot_utslipp_per_tiar\n",
    "plot_utslipp_per_tiar(df_norge, tittel=\"Gjennomsnittlig utslipp per tiår i Norge\")\n",
    "plot_utslipp_per_tiar(df_verden, tittel=\"Gjennomsnittlig utslipp per tiår i verden\")"
   ]
  },
  {
   "cell_type": "markdown",
   "id": "33",
   "metadata": {},
   "source": [
    "### Sammenligne utslipp fra Norge og verden\n",
    "Her vises utviklingen i norske og globale utslipp først i samme graf og så ved siden av hverandre. \n",
    "I det første plottet har Norge og verden hver sin y-akse (Norge=venstre og verden=høyre) slik at forskjellen i størrelse ikke blir et problem."
   ]
  },
  {
   "cell_type": "code",
   "execution_count": null,
   "id": "34",
   "metadata": {},
   "outputs": [],
   "source": [
    "from klimagass_visualisering import plot_norge_og_verden_sammen, plot_norge_og_verden_separat\n",
    "\n",
    "plot_norge_og_verden_sammen(df_norge, df_verden)\n",
    "plot_norge_og_verden_separat(df_norge, df_verden)"
   ]
  },
  {
   "cell_type": "markdown",
   "id": "35",
   "metadata": {},
   "source": [
    "**Kommentar:** \n",
    "\n",
    "Sammenlignet med verdens utslipp er nedgangen i Norge etter 2020 mye kraftigere og varig. Globalt var det en liten nedgang under pandemien, men utslippene økte raskt igjen. Dette kan bety på at Norge har innført varige tiltak for å redusere klimagassutslipp etter pandemien."
   ]
  },
  {
   "cell_type": "markdown",
   "id": "36",
   "metadata": {},
   "source": [
    "## Klimagassutslipp fordelt på kilde\n",
    "\n",
    "Grafen viser utviklingen i Norges klimagassutslipp fordelt på ulike kilder. "
   ]
  },
  {
   "cell_type": "code",
   "execution_count": null,
   "id": "37",
   "metadata": {},
   "outputs": [],
   "source": [
    "from klimagass_visualisering import plot_utslipp_per_kilde\n",
    "plot_utslipp_per_kilde(df_norge_alt)"
   ]
  },
  {
   "cell_type": "markdown",
   "id": "38",
   "metadata": {},
   "source": [
    "**Kommentar:**\n",
    "\n",
    "Grafen viser at i perioden frem til 2005 var industri og bergverk den største kilden til utslipp i Norge. Etter 2005 tok olje- og gassutvinning over som største kilde, etter å ha økt utslippene betydelig fra 1990 til 2007. Olje- og gassutvinning har siden 2005 vært den sektoren som har hatt størst klimagassutslipp. De siste årene har derimot utslippene fra både industri og bergverk og olje- og gassutvinning gått ned.\n",
    "\n",
    "Utslippene fra veitrafikk økte jevnt frem til rundt 2007, før det begynte å avta. Dette kan skyldes en økning av bruk av elbiler de siste årene. \n",
    "\n",
    "Oppvarming i andre næringer og husholdninger har etter 2003 hatt en nedgang. Dette kan komme av at det har blitt gjort endringer i hvordan bygninger varmes opp. Fossile varmekilder er byttet ut med elektrisitet og fjernvarme. \n",
    "\n",
    "Energiforsyning hadde en tydelig økning i utslipp rundt 2009–2010. Denne økningen skiller seg ut fra den ellers stabile utviklingen. Etter toppen i 2010 stabiliserte utslippet seg, og ligger nå på et lavere nivå. Det kan det være flere årsaker til en slik økningen. Det kan f.eks. ha vært lav vannkraftproduksjon eller økt etterspørsel etter energi i denne perioden, noe som har ført til en økning av bruk av fossile energikilder i strømproduksjonen.  \n",
    "\n",
    "Luftfart, sjøfart, fiske, motorredskaper m.m har hatt en jevn økning i klimagassutslipp siden 2000. \n",
    "\n",
    "Jordbruk og \"andre kilder\" har hatt en mer stabil utvikling, men også her er det en svak nedgang de siste årene.\n",
    "\n",
    "Totalt sett peker trenden mot at flere sektorer har klart å redusere utslippene sine, selv om det fortsatt er betydelige utslipp fra noen store kilder.\n"
   ]
  },
  {
   "cell_type": "markdown",
   "id": "39",
   "metadata": {},
   "source": [
    "## Andel av klimagassutslipp per kilde i 2023\n",
    "\n",
    "Diagrammet viser hvordan Norges totale klimagassutslipp i 2023 fordelte seg mellom de ulike sektorene."
   ]
  },
  {
   "cell_type": "code",
   "execution_count": null,
   "id": "40",
   "metadata": {},
   "outputs": [],
   "source": [
    "from klimagass_visualisering import plot_andel_per_kilde\n",
    "plot_andel_per_kilde(df, år=2023)"
   ]
  },
  {
   "cell_type": "markdown",
   "id": "41",
   "metadata": {},
   "source": [
    "**Kommentar:**\n",
    "\n",
    "Olje- og gassutvinning og industri og bergverk sto for nesten halvparten av Norges totale klimagassutslipp i 2023. Veitrafikk, luftfart, sjøfart og motorredskaper utgjør også en betydelig andel, mens oppvarming, energiforsyning, jordbruk og andre kilder utgjør en mindre del."
   ]
  },
  {
   "cell_type": "markdown",
   "id": "42",
   "metadata": {},
   "source": [
    "## Klimagassutslipp i Norge per kilde og år (heatmap)\n",
    "\n",
    "Heatmappen viser utviklingen av klimagassutslipp i Norge per kilde og år. Fargene viser størrelsen på utslippene -> Mørkere farger betyr høyere utslipp."
   ]
  },
  {
   "cell_type": "code",
   "execution_count": null,
   "id": "43",
   "metadata": {},
   "outputs": [],
   "source": [
    "from klimagass_visualisering import plot_heatmap_per_kilde\n",
    "plot_heatmap_per_kilde(df)"
   ]
  },
  {
   "cell_type": "markdown",
   "id": "44",
   "metadata": {},
   "source": [
    "**Kommentar:**\n",
    "\n",
    "Også her ser man tydlig at industri og bergverk hadde høye utslipp tidlig i perioden, men at utslippene har gått ned over tid. For olje- og gassutvinning viser grafen en vekst frem til midten av 2000-tallet, før utslippene avtar igjen."
   ]
  }
 ],
 "metadata": {
  "kernelspec": {
   "display_name": "venv",
   "language": "python",
   "name": "python3"
  },
  "language_info": {
   "codemirror_mode": {
    "name": "ipython",
    "version": 3
   },
   "file_extension": ".py",
   "mimetype": "text/x-python",
   "name": "python",
   "nbconvert_exporter": "python",
   "pygments_lexer": "ipython3",
   "version": "3.13.1"
  }
 },
 "nbformat": 4,
 "nbformat_minor": 5
}
