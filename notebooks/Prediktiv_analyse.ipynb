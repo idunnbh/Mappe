{
 "cells": [
  {
   "cell_type": "code",
   "execution_count": null,
   "metadata": {},
   "outputs": [],
   "source": [
    "import sys, os\n",
    "import pandas as pd\n",
    "sys.path.append(os.path.abspath(\"../\"))\n",
    "\n",
    "from src.prediksjon import koble_temp_klima\n",
    "\n",
    "import matplotlib.pyplot as plt\n",
    "import seaborn as sns\n",
    "from sklearn.linear_model import LinearRegression\n",
    "from sklearn.metrics import mean_squared_error, r2_score\n",
    "import numpy as np"
   ]
  },
  {
   "cell_type": "markdown",
   "metadata": {},
   "source": [
    "# Sammenhengen mellom det globale klimagassutslippet og temperaturer i Norge\n",
    "\n",
    "I denne analysen vil vi se på forholdet mellom verdensklimagassutslipp og temperaturene i Norge de siste 50 årene. Målet er å finne en sammenheng og deretter bruke en lineær regresjon for å predikere fremtidige temperaturer.\n",
    "\n",
    "Analysen vil avslutte med å vurdere, med hjelp av den lineære regresjonen, om det er realistisk å nå togradersmålet fra Parisavtalen.\n",
    "\n",
    "Denne analysen tar utgangspunkt i renset data fra to ulike API-kallinger: \n",
    "- data/klimagassutslipp_verden_renset.csv\n",
    "- data/temp_gloshaugen_historisk_renset_ 50.csv\n",
    "\n",
    "Under vil du kunne se et linjediagram som tar for seg disse to dataformene individuelt. De skal ikke bli sett på i sammenheng med hverandre her. Linjediagrammet er kun for å gi en visuell forståelse av hvordan klimagassutslippet og temperaturene i Norge har utviklet seg individuelt."
   ]
  },
  {
   "cell_type": "code",
   "execution_count": null,
   "metadata": {},
   "outputs": [],
   "source": [
    "df_temp = pd.read_csv(\"../data/temp_gloshaugen_historisk_renset_ 50.csv\", parse_dates=[\"tidspunkt\"])\n",
    "df_klima = pd.read_csv(\"../data/klimagassutslipp_verden_renset.csv\")\n",
    "\n",
    "df_merged, df_temp_agg = koble_temp_klima(df_klima, df_temp)\n",
    "\n",
    "plt.figure(figsize=(8,5))\n",
    "plt.plot(df_merged[\"år\"], df_merged[\"temperatur\"], label=\"Temperatur\")\n",
    "plt.plot(df_merged[\"år\"], df_merged[\"Utslipp i CO2 ekvivalenter\"] / 1e10, label=\"CO2-utslipp (x10^9)\")\n",
    "plt.xlabel(\"År\")\n",
    "plt.ylabel(\"Verdi\")\n",
    "plt.title(\"Utvikling i temperatur og CO2-utslipp over tid\")\n",
    "plt.legend()\n",
    "plt.grid(True)\n",
    "plt.tight_layout()\n",
    "plt.show()"
   ]
  },
  {
   "cell_type": "markdown",
   "metadata": {},
   "source": [
    "## Dataimportering og datainnlastning\n",
    "\n",
    "\n",
    "Vi bruker df_merged.head() for å sjekke at DataFramen har blitt koblet sammen og lastet inn riktig."
   ]
  },
  {
   "cell_type": "code",
   "execution_count": null,
   "metadata": {},
   "outputs": [],
   "source": [
    "df_merged.head()"
   ]
  },
  {
   "cell_type": "markdown",
   "metadata": {},
   "source": [
    "### Visualisering med scatterplots"
   ]
  },
  {
   "cell_type": "code",
   "execution_count": null,
   "metadata": {},
   "outputs": [],
   "source": [
    "plt.figure(figsize=(7,5))\n",
    "sns.scatterplot(\n",
    "    data=df_merged,\n",
    "    x= \"Utslipp i CO2 ekvivalenter\",\n",
    "    y= \"temperatur\",\n",
    "    alpha=0.7,\n",
    "    s=60,\n",
    "    color=\"rebeccapurple\"\n",
    ")\n",
    "\n",
    "plt.title(\"Temperatur i Norge vs. globale CO2-utslipp\")\n",
    "plt.xlabel(\"Globale CO2-utslipp (tonn)\")\n",
    "plt.ylabel(\"Årsgjennomsnitt temperatur\")\n",
    "plt.grid(True)\n",
    "plt.tight_layout()\n",
    "plt.show()"
   ]
  },
  {
   "cell_type": "markdown",
   "metadata": {},
   "source": [
    "Hver prikk representerer et år i datasettet og for hvert år har de to verdier:\n",
    "- Globale CO2-utslipp\n",
    "- Årsgjennomsnittlig temperatur i Norge\n",
    "\n",
    "**X-aksen:** Viser CO2-utslipp i 1e10 form. Skalaen går fra 3,3e10 (33 milliarder tonn) til 5,3e10. \n",
    "\n",
    "**Y-aksen:** Viser temperatur i celsius. Skalaen går automatisk fra 4,5 grader til 8,5. Dette bestemmes automatisk av min og maks i datasettet.\n",
    "\n",
    "### Tolkning av scatterplot\n",
    "\n",
    "Punktene er spredte og viser ikke til noen tydelig sammenheng mellom hverandre. Samtidig så kan vi se at når årstemperaturen og CO2-utslippet er lavt, så ligger punkene realtivt samlet, og når aksene øker, øker punktene i liten grad. Punktene starter samlet under 7,5 i årsgjennomsnitt (med unntak av noen outliers) og når CO2-utslippet øker avslutter punktene med kun én outlier under 6,5 grader.\n",
    "\n",
    "Det globale utslippet virker til å ha økt over tid og i denne sammenhengen kan det se ut til at temperaturen øker i samsvar med denne. For å kunne være mer sikker er det nødvendig å utføre en regresjonsanalyse. \n",
    "\n",
    "### Visuell regresjonsmodell"
   ]
  },
  {
   "cell_type": "code",
   "execution_count": null,
   "metadata": {},
   "outputs": [],
   "source": [
    "plt.figure(figsize=(7, 5))\n",
    "\n",
    "sns.regplot(\n",
    "    data=df_merged,\n",
    "    x=\"Utslipp i CO2 ekvivalenter\",\n",
    "    y=\"temperatur\",\n",
    "    scatter=True,\n",
    "    ci=95,\n",
    "    line_kws={\"color\": \"orangered\", \"linewidth\": 2},\n",
    "    color=\"rebeccapurple\"\n",
    ")\n",
    "\n",
    "plt.title(\"Temperatur i Norge vs. globale CO2-utslipp (med regresjonslinje)\")\n",
    "plt.xlabel(\"Globale CO2-utslipp (tonn)\")\n",
    "plt.ylabel(\"Årsgjennomsnitt temperatur\")\n",
    "plt.grid(True)\n",
    "plt.tight_layout()\n",
    "plt.show()\n"
   ]
  },
  {
   "cell_type": "markdown",
   "metadata": {},
   "source": [
    "Her ser vi samme scatterplot som tidligere, bare inkludert en regresjonslinje. Denne linjen kan forklares som den beste tilpasningslinjen mellom aksene i plottet. Den prøver best å vise sammenhengen og utviklingen mellom aksene. \n",
    "\n",
    "Skyggeområdet rundt linjen er usikkerhetsintervallet til modellen. Den ligger på 95%. Dette betyr at modellen er 95% sikker på at temperaturer vil havne på den linjen.\n",
    "\n",
    "### Tolkning av visuell regresjonsmodellen\n",
    "\n",
    "Regresjonslinjen heller oppover. Dette tyder til at det finnes en positiv sammenheng mellom variablene: Når det globale CO2-utslippet øker, så øker årstemperatur-gjennomsnittet. Samtidig så ser vi at de fleste av plottene ikke ligger ved linjen, men eller ved skyggeintervallet eller rundt det. Dette viser at selv om sammenhenger er der, så er den ikke veldig sterk. Dette forklarer kort og enkelt at CO2-utslippet alene ikke er årsaken til temperaturøkningen i Norge.\n",
    "\n",
    "Regresjonsmodellen kan likevell brukes som er verktøy for å gjøre grove predikasjoner og gi oss muligheten til å vurdere og utforske hvordan CO2-ekvivalent-utslippet kan påvirke den fremtidige temperaturen.\n",
    "\n",
    "\n",
    "### Lineær regresjonsmodell\n",
    "Ettersom at seaborn ikke gjør utrengingen automatisk, kan det være hjelpsomt å bruke en annen regresjonsmodell gjennom scikit-learn som gir oss muligheten til å trene opp en regresjonsmodell for så å ta den i bruk.\n",
    "\n",
    "Det første vi gjør er å definere hvilken variabel som tilhører hvilken akse, forså å sjekke for manglende verdier i aksene."
   ]
  },
  {
   "cell_type": "code",
   "execution_count": null,
   "metadata": {},
   "outputs": [],
   "source": [
    "X = df_merged[['Utslipp i CO2 ekvivalenter']]\n",
    "y = df_merged['temperatur']\n",
    "\n",
    "print(X.isnull().sum())\n",
    "print(y.isnull().sum())"
   ]
  },
  {
   "cell_type": "markdown",
   "metadata": {},
   "source": [
    "Det er ingen manglende verdier.\n",
    "\n",
    "Videre lager vi en ny regresjonsmodell som så printer ut i:\n",
    "- (a) Hvor mye temperaturen endrer seg per tonn\n",
    "- (b) Temperaturen ved utslipp = 0 i C02-utslipp\n",
    "- MSE\n",
    "- R^2 (R2)"
   ]
  },
  {
   "cell_type": "code",
   "execution_count": null,
   "metadata": {},
   "outputs": [],
   "source": [
    "model = LinearRegression()\n",
    "model.fit(X,y)\n",
    "y_pred = model.predict(X)\n",
    "mse = mean_squared_error(y, y_pred)\n",
    "r2 = r2_score(y, y_pred)\n",
    "\n",
    "print(\"Stigningstall (a):\", model.coef_[0])\n",
    "print(\"Konstantledd (b):\", model.intercept_)\n",
    "print(\"Mean Squared Error (MSE):\", mse)\n",
    "print(\"Forklaringsgrad (R2):\", r2)"
   ]
  },
  {
   "cell_type": "markdown",
   "metadata": {},
   "source": [
    "**Stigningstall** ligger på 6.88e-11. Dette betyr at hver gang CO2-utlippet øker med 1 tonn, øker temperaturen med 6.88e-11 grader, altså 0.0000000000688 grader.\n",
    "\n",
    "**Konstantledd** ligger på 3.84. Dette forteller oss at når CO2-utslippet er på 0, er temperaturen 3.84%.\n",
    "\n",
    "**MSE** ligger på 0.71. Dette betyr at modellen i gjennomsnitt viker av med omretent 0.84 grader. Dette kan gi mye variasjon i svarene, men kan sees på som positivt med tanke på at miljøet varierer mye.\n",
    "\n",
    "**R2** ligger på 0.266. Dette betyr at omtrent 26,6% av temperaturenforskjellen kan forklares av CO2-utslippet. Dette er ikke en sterk kobling, men en sterk nok en til at den kan brukes. Årsaken til at den er lav er på grunn av at det finnes andre årsaker til at temperaturen endres (klima, værfenomener ol.). CO2-ekvivalent-utslippet ser ut til å være 26,6% av de.\n",
    "\n",
    "Nå er den lineære regresjonsmodellen trent opp og vi kan gjøre et forsøk på å predikere fremtiden.\n",
    "\n",
    "### Prediktere fremtiden\n",
    "\n",
    "La oss gjøre et forsøk på å beregne fremtidig temperatur. **Hva er temperaturen når de globale CO₂-utslippene er 60 milliarder tonn?**"
   ]
  },
  {
   "cell_type": "code",
   "execution_count": null,
   "metadata": {},
   "outputs": [],
   "source": [
    "fremtidig_utslipp = pd.DataFrame([[60_000_000_000]], columns=[\"Utslipp i CO2 ekvivalenter\"])\n",
    "temperatur_prediksjon = model.predict(fremtidig_utslipp)\n",
    "\n",
    "print(\"Prediktert temperatur:\", temperatur_prediksjon[0])"
   ]
  },
  {
   "cell_type": "markdown",
   "metadata": {},
   "source": [
    "Dersom de globale CO2-utslippene når 60 milliarder tonn, estimerer modellen at det årlige gjennomsnittet for Norge vil være 7.98 grader."
   ]
  },
  {
   "cell_type": "markdown",
   "metadata": {},
   "source": []
  }
 ],
 "metadata": {
  "kernelspec": {
   "display_name": ".venv",
   "language": "python",
   "name": "python3"
  },
  "language_info": {
   "codemirror_mode": {
    "name": "ipython",
    "version": 3
   },
   "file_extension": ".py",
   "mimetype": "text/x-python",
   "name": "python",
   "nbconvert_exporter": "python",
   "pygments_lexer": "ipython3",
   "version": "3.13.2"
  }
 },
 "nbformat": 4,
 "nbformat_minor": 2
}
