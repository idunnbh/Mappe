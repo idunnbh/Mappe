{
 "cells": [
  {
   "cell_type": "markdown",
   "metadata": {},
   "source": [
    "# Dataanalyse\n",
    "\n",
    "Her analyserer temperaturdata, klimagassutslipp og luftkvalitetsdata ved bruk av funksjoner i `statistikk.py`.\n"
   ]
  },
  {
   "cell_type": "markdown",
   "metadata": {},
   "source": [
    "#### Importere nødvendige biblioteker og moduler\n"
   ]
  },
  {
   "cell_type": "code",
   "execution_count": null,
   "metadata": {},
   "outputs": [],
   "source": [
    "import pandas as pd\n",
    "import numpy as np\n",
    "\n",
    "import sys, os\n",
    "sys.path.append(os.path.abspath(\"../src\"))\n",
    "\n",
    "\n",
    "import importlib\n",
    "import statistikk\n",
    "importlib.reload(statistikk)"
   ]
  },
  {
   "cell_type": "markdown",
   "metadata": {},
   "source": [
    "## Analyse av temperaturdata\n",
    "\n",
    "I denne seksjonen blir historiske temperaturdata fra Gløshaugen analysert."
   ]
  },
  {
   "cell_type": "markdown",
   "metadata": {},
   "source": [
    "### Statistikk for tempraturen hver måned og årlig gjennomsnitt "
   ]
  },
  {
   "cell_type": "code",
   "execution_count": null,
   "metadata": {},
   "outputs": [],
   "source": [
    "\n",
    "from statistikk import analyser_temperatur\n",
    "\n",
    "resultat = analyser_temperatur(\"../data/temp_gloshaugen_historisk_renset_ 50.csv\")\n",
    "\n",
    "\n",
    "for navn, data in resultat.items():\n",
    "    print(\"Statistikk for tempraturen hver måned\")\n",
    "    print(data[\"samlet_statistikk\"])\n",
    "    if data[\"årlig_snitt\"] is not None:\n",
    "        print(\"Årlig gjennomsnitt:\")\n",
    "        print(data[\"årlig_snitt\"])\n",
    "årlig_snitt = resultat[\"temperatur\"][\"årlig_snitt\"]\n"
   ]
  },
  {
   "cell_type": "markdown",
   "metadata": {},
   "source": [
    "### Endring i gjennomsnittstemperatur fra første til siste år"
   ]
  },
  {
   "cell_type": "code",
   "execution_count": null,
   "metadata": {},
   "outputs": [],
   "source": [
    "from statistikk import beregn_endring_totalt\n",
    "\n",
    "# Endring i gjennomsnittstemperatur fra første til siste år\n",
    "resultat = beregn_endring_totalt(årlig_snitt)\n",
    "print(f\"Endring i temperatur fra {resultat['startår']} til {resultat['sluttår']}:\")\n",
    "print(f\"{resultat['endring']:.2f} °C ({resultat['prosent']:.2f} %)\")\n"
   ]
  },
  {
   "cell_type": "markdown",
   "metadata": {},
   "source": [
    "### Årlig endring i temperatur"
   ]
  },
  {
   "cell_type": "code",
   "execution_count": null,
   "metadata": {},
   "outputs": [],
   "source": [
    "from statistikk import beregn_endring_årlig\n",
    "\n",
    "endringsdata = beregn_endring_årlig(årlig_snitt, verdikolonne='årsgjennomsnitt')\n",
    "display(endringsdata.round(2))\n"
   ]
  },
  {
   "cell_type": "markdown",
   "metadata": {},
   "source": [
    "### Høyeste og laveste gjennomsnittstemperatur"
   ]
  },
  {
   "cell_type": "code",
   "execution_count": null,
   "metadata": {},
   "outputs": [],
   "source": [
    "from statistikk import ekstremverdier\n",
    "\n",
    "ekstremer = ekstremverdier(årlig_snitt, verdikolonne='årsgjennomsnitt')\n",
    "\n",
    "print(f\"Høyeste år: {ekstremer['maksimum']['år']}. Da var det i gjennomsnitt: {ekstremer['maksimum']['verdi']:.2f} °C\")\n",
    "print(f\"Laveste år: {ekstremer['minimum']['år']}. Da var det i gjennomsnitt: {ekstremer['minimum']['verdi']:.2f} °C\")"
   ]
  },
  {
   "cell_type": "markdown",
   "metadata": {},
   "source": [
    "### Gjenomsnittet for hvert tiår"
   ]
  },
  {
   "cell_type": "code",
   "execution_count": null,
   "metadata": {},
   "outputs": [],
   "source": [
    "from statistikk import tiår_snitt\n",
    "\n",
    "tiår_snitt = tiår_snitt(årlig_snitt, verdikolonne='årsgjennomsnitt')\n",
    "display(tiår_snitt.round(2))\n"
   ]
  },
  {
   "cell_type": "markdown",
   "metadata": {},
   "source": [
    "### Temperaturavvik per år"
   ]
  },
  {
   "cell_type": "code",
   "execution_count": null,
   "metadata": {},
   "outputs": [],
   "source": [
    "from statistikk import beregn_avvik\n",
    "\n",
    "avvik_df = beregn_avvik(årlig_snitt)\n",
    "display(avvik_df.round(2))\n"
   ]
  },
  {
   "cell_type": "markdown",
   "metadata": {},
   "source": [
    "## Analyse av klimagassutslipp i verden\n",
    "\n",
    "Denne seksjonen analyserer globale utslippsdata.\n"
   ]
  },
  {
   "cell_type": "markdown",
   "metadata": {},
   "source": [
    "#### Henter inn datasettet med globale klimagassutslipp"
   ]
  },
  {
   "cell_type": "code",
   "execution_count": null,
   "metadata": {},
   "outputs": [],
   "source": [
    "statistikk_verden, df_total_verden, df_verden = statistikk.analyser_fil(\"../data/klimagassutslipp_verden_renset.csv\",datokolonne=\"År\",groupby=\"år\")"
   ]
  },
  {
   "cell_type": "markdown",
   "metadata": {},
   "source": [
    "### Utslipp per tiår i hele verden"
   ]
  },
  {
   "cell_type": "code",
   "execution_count": null,
   "metadata": {},
   "outputs": [],
   "source": [
    "from statistikk import tiår_snitt\n",
    "\n",
    "tiårs_snitt = tiår_snitt(df_verden, verdikolonne='utslipp_i_co2_ekvivalenter')\n",
    "\n",
    "print(\"Utslipp per tiår globalt:\")\n",
    "display(tiårs_snitt)"
   ]
  },
  {
   "cell_type": "markdown",
   "metadata": {},
   "source": [
    "### Året med høyest og lavest utslipp i verden"
   ]
  },
  {
   "cell_type": "code",
   "execution_count": null,
   "metadata": {},
   "outputs": [],
   "source": [
    "from statistikk import ekstremverdier\n",
    "\n",
    "ekstremer = ekstremverdier(df_verden, verdikolonne='utslipp_i_co2_ekvivalenter')\n",
    "\n",
    "print(f\"Høyeste utslipp: {ekstremer['maksimum']['år']} med {ekstremer['maksimum']['verdi']:.2f}\")\n",
    "print(f\"Laveste utslipp: {ekstremer['minimum']['år']} med {ekstremer['minimum']['verdi']:.2f}\")\n"
   ]
  },
  {
   "cell_type": "markdown",
   "metadata": {},
   "source": [
    "### Endring i klimagassutslipp fra første til siste år"
   ]
  },
  {
   "cell_type": "code",
   "execution_count": null,
   "metadata": {},
   "outputs": [],
   "source": [
    "from statistikk import beregn_endring_totalt\n",
    "\n",
    "resultat_utslipp = beregn_endring_totalt(df_verden, verdikolonne='utslipp_i_co2_ekvivalenter')\n",
    "\n",
    "print(f\"Endring i utslipp fra {resultat_utslipp['startår']} til {resultat_utslipp['sluttår']}:\")\n",
    "print(f\"{resultat_utslipp['endring']:.2f} ({resultat_utslipp['prosent']:.2f} %)\")\n"
   ]
  },
  {
   "cell_type": "markdown",
   "metadata": {},
   "source": [
    "### Årlig endring i klimagassutslipp"
   ]
  },
  {
   "cell_type": "code",
   "execution_count": null,
   "metadata": {},
   "outputs": [],
   "source": [
    "from statistikk import beregn_endring_årlig\n",
    "\n",
    "endringsdata = beregn_endring_årlig(df_verden, verdikolonne='utslipp_i_co2_ekvivalenter')\n",
    "display(endringsdata.round(2))\n"
   ]
  },
  {
   "cell_type": "markdown",
   "metadata": {},
   "source": [
    "## Analyse av klimagassutslipp i Norge\n",
    "\n",
    "Denne seksjonen analyserer historisk klimagassutslipp i Norge."
   ]
  },
  {
   "cell_type": "markdown",
   "metadata": {},
   "source": [
    "#### Leser inn data om Norges klimagassutslipp fra en ferdig renset CSV-fil"
   ]
  },
  {
   "cell_type": "code",
   "execution_count": null,
   "metadata": {},
   "outputs": [],
   "source": [
    "statistikk_norge, df_total_norge, df_norge = statistikk.analyser_fil(\"../data/klimagassutslipp_norge_renset.csv\", sep=\",\", datokolonne=\"år\", groupby=\"år\")"
   ]
  },
  {
   "cell_type": "markdown",
   "metadata": {},
   "source": [
    "### Utslipp i Norge per kilde og år"
   ]
  },
  {
   "cell_type": "code",
   "execution_count": null,
   "metadata": {},
   "outputs": [],
   "source": [
    "from statistikk import analyser_utslipp_norge\n",
    "\n",
    "stats_per_kilde_år = analyser_utslipp_norge(df_norge)\n",
    "\n",
    "if stats_per_kilde_år is not None:\n",
    "    display(stats_per_kilde_år)\n"
   ]
  },
  {
   "cell_type": "markdown",
   "metadata": {},
   "source": [
    "### Gjennomsnitts utslipp og median for hver kilde totalt i Norge"
   ]
  },
  {
   "cell_type": "code",
   "execution_count": null,
   "metadata": {},
   "outputs": [],
   "source": [
    "from statistikk import gjennomsnitt_per_kilde\n",
    "\n",
    "stats_per_kilde = gjennomsnitt_per_kilde(df_norge)\n",
    "display(stats_per_kilde)\n"
   ]
  },
  {
   "cell_type": "markdown",
   "metadata": {},
   "source": [
    "### Endring av utslipp i norge fra startår til sluttår "
   ]
  },
  {
   "cell_type": "code",
   "execution_count": null,
   "metadata": {},
   "outputs": [],
   "source": [
    "from statistikk import lag_totaldata, beregn_endring_totalt\n",
    "\n",
    "total = lag_totaldata(df_total_norge)\n",
    "resultat = beregn_endring_totalt(total, årskolonne='år', verdikolonne='utslipp')\n",
    "\n",
    "print(f\"Endring i utslipp fra {resultat['startår']} til {resultat['sluttår']}:\")\n",
    "print(f\"{resultat['endring']:.0f} ({resultat['prosent']:.2f} %)\")\n"
   ]
  },
  {
   "cell_type": "markdown",
   "metadata": {},
   "source": [
    "### Året med høyest og lavest utslipp i Norge"
   ]
  },
  {
   "cell_type": "code",
   "execution_count": null,
   "metadata": {},
   "outputs": [],
   "source": [
    "from statistikk import ekstremverdier\n",
    "\n",
    "# Filtrer ut \"Alle kilder\"\n",
    "df_alle_kilder = df_total_norge[df_total_norge['kilde_(aktivitet)'].str.lower().str.contains(\"alle kilder\")].copy()\n",
    "ekstremer = ekstremverdier(df_alle_kilder, verdikolonne='utslipp_til_luft_(1_000_tonn_co2-ekvivalenter,_ar5)')\n",
    "\n",
    "print(f\"Høyeste utslipp: {ekstremer['maksimum']['år']} med {ekstremer['maksimum']['verdi']:.0f} (1 000 tonn CO₂-ekv.)\")\n",
    "print(f\"Laveste utslipp: {ekstremer['minimum']['år']} med {ekstremer['minimum']['verdi']:.0f} (1 000 tonn CO₂-ekv.)\")\n"
   ]
  },
  {
   "cell_type": "markdown",
   "metadata": {},
   "source": [
    "### Årlig endring for hver kilde i Norge"
   ]
  },
  {
   "cell_type": "code",
   "execution_count": null,
   "metadata": {},
   "outputs": [],
   "source": [
    "from statistikk import beregn_endring_per_kilde\n",
    "\n",
    "endringer = beregn_endring_per_kilde(stats_per_kilde_år)\n",
    "\n",
    "for kilde, df_endring in endringer.items():\n",
    "    print(f\"\\nEndring for kilde: {kilde}\")\n",
    "    display(df_endring.round(2))\n"
   ]
  },
  {
   "cell_type": "markdown",
   "metadata": {},
   "source": [
    "### Gjennomsnittlig utslipp per tiår i Norge (alle kilder)"
   ]
  },
  {
   "cell_type": "code",
   "execution_count": null,
   "metadata": {},
   "outputs": [],
   "source": [
    "from statistikk import tiår_snitt\n",
    "\n",
    "kol_utslipp = [kol for kol in df_alle_kilder.columns if \"utslipp\" in kol.lower() and \"co2\" in kol.lower()][0]\n",
    "tiårsdata_norge = tiår_snitt(df_alle_kilder, verdikolonne=kol_utslipp)\n",
    "\n",
    "display(tiårsdata_norge)\n"
   ]
  },
  {
   "cell_type": "markdown",
   "metadata": {},
   "source": [
    "## Analyse av luftkvalitet\n",
    "\n",
    "I denne seksjonen analyseres utviklingen av luftkvaliteten på Gløshaugen i Trondheim"
   ]
  },
  {
   "cell_type": "markdown",
   "metadata": {},
   "source": [
    "#### Leser inn data for historisk luftkvalitet fra CSV-fil"
   ]
  },
  {
   "cell_type": "code",
   "execution_count": null,
   "metadata": {},
   "outputs": [],
   "source": [
    "statistikk_luft, df_total, df_luft = statistikk.analyser_fil(\"../data/gyldig_historisk_luftkvalitet.csv\", datokolonne=\"tid\", groupby=\"år\")"
   ]
  },
  {
   "cell_type": "markdown",
   "metadata": {},
   "source": [
    "### Statistikk for luftkvalitetsmålinger"
   ]
  },
  {
   "cell_type": "code",
   "execution_count": null,
   "metadata": {},
   "outputs": [],
   "source": [
    "for stoff, df in statistikk_luft.items():\n",
    "    print(f\"Statistikk: {stoff}\")\n",
    "    display(df[['år', 'gjennomsnitt', 'median']].round(2))"
   ]
  },
  {
   "cell_type": "markdown",
   "metadata": {},
   "source": [
    "### Årlige og månedlige trender i luftkvalitet"
   ]
  },
  {
   "cell_type": "code",
   "execution_count": null,
   "metadata": {},
   "outputs": [],
   "source": [
    "from statistikk import analyser_luftkvalitet, legg_til_tid\n",
    "\n",
    "df_luft = legg_til_tid(df_luft)\n",
    "målinger = [kol for kol in df_luft.columns if \"ugm3\" in kol]\n",
    "\n",
    "resultater = analyser_luftkvalitet(df_luft, målinger)\n",
    "\n",
    "for stoff, data in resultater.items():\n",
    "    print(f\"Analyse for: {stoff}\")\n",
    "    print(\"Årlig snitt:\")\n",
    "    display(data[\"årlig\"].round(2))\n",
    "\n",
    "    print(\"\\nMånedlig snitt:\")\n",
    "    display(data[\"månedlig\"].round(2))\n",
    "\n",
    "    print(\"\\nEkstremverdier:\")\n",
    "    print(f\"Maks: {data['ekstremer']['maksimum']['verdi']:.2f} µg/m³ på {data['ekstremer']['maksimum']['år']}\")\n",
    "    print(f\"Min: {data['ekstremer']['minimum']['verdi']:.2f} µg/m³ på {data['ekstremer']['minimum']['år']}\")\n"
   ]
  }
 ],
 "metadata": {
  "kernelspec": {
   "display_name": "venv",
   "language": "python",
   "name": "python3"
  },
  "language_info": {
   "codemirror_mode": {
    "name": "ipython",
    "version": 3
   },
   "file_extension": ".py",
   "mimetype": "text/x-python",
   "name": "python",
   "nbconvert_exporter": "python",
   "pygments_lexer": "ipython3",
   "version": "3.13.1"
  }
 },
 "nbformat": 4,
 "nbformat_minor": 2
}
